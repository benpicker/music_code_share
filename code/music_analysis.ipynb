{
 "cells": [
  {
   "cell_type": "markdown",
   "id": "4f42e0e7",
   "metadata": {},
   "source": [
    "# Method \n",
    "\n",
    "My goal is to do a brute force search for pleasant musical notes to identify where the boundaries of pleasant and unpleasant exists. \n",
    "\n",
    "The basic method is to make 2 note chords, one with the fundamental $f_1$ and the other with frequency $f_2 = rf_1$ for some ratio $r$. I test ratios $r = 1 + k * 0.01$ for $r \\in [1,2]$. \n",
    "\n",
    "* Experiment 1 -- I test this with sine waves \n",
    "    - Pros: Simple plots \n",
    "    - Cons: unclear if single sine wave can work given that it doesn't have enough density on the harmonics \n",
    "* Experiment 2 \n",
    "    - Pros: better density on the harmonics\n",
    "    - Cons: complicated plots "
   ]
  },
  {
   "cell_type": "markdown",
   "id": "ce4998ad",
   "metadata": {},
   "source": [
    "# Experiment 1: Sine waves "
   ]
  },
  {
   "cell_type": "code",
   "execution_count": null,
   "id": "226f91de",
   "metadata": {
    "vscode": {
     "languageId": "plaintext"
    }
   },
   "outputs": [],
   "source": [
    "import numpy as np\n",
    "import soundfile as sf\n",
    "import matplotlib.pyplot as plt\n",
    "from IPython.display import Audio, display\n",
    "\n",
    "# Parameters\n",
    "duration = 1.0   # seconds (for audio)\n",
    "sr = 44100       # sample rate\n",
    "base_freq = 403.0\n",
    "t = np.linspace(0, duration, int(sr * duration), endpoint=False)\n",
    "\n",
    "# Frequency multipliers: 1.005 → 2.005 in EXACT 0.01 steps (101 values)\n",
    "multipliers = np.round(np.linspace(1.00, 2.00, 101), 2)\n",
    "\n",
    "window_ms = 12   # how much of waveform to show in plots\n",
    "print(f\"Generating {len(multipliers)} sine chords...\")\n",
    "\n",
    "for idx, m in enumerate(multipliers, start=1):\n",
    "    f1 = base_freq\n",
    "    f2 = base_freq * m\n",
    "\n",
    "    # Individual components\n",
    "    y1 = np.sin(2 * np.pi * f1 * t).astype(np.float32)\n",
    "    y2 = np.sin(2 * np.pi * f2 * t).astype(np.float32)\n",
    "\n",
    "    # Sum and normalize\n",
    "    y_sum = (y1 + y2).astype(np.float32)\n",
    "    peak = np.max(np.abs(y_sum))\n",
    "    if peak > 0:\n",
    "        y_sum /= peak\n",
    "\n",
    "    # ---- Save to file (only the sum) ----\n",
    "    filename = f\"sinechord_{int(f1)}Hz_{round(f2, 2)}Hz.wav\"\n",
    "    sf.write(filename, y_sum, sr)\n",
    "\n",
    "    # ---- Plot (zoomed window) ----\n",
    "    win_samples = int((window_ms / 1000.0) * sr)\n",
    "    tt = t[:win_samples]\n",
    "    plt.figure(figsize=(9, 3.5))\n",
    "    plt.plot(tt, y1[:win_samples], label=\"sin(2π c₁ x)\")\n",
    "    plt.plot(tt, y2[:win_samples], label=\"sin(2π c₂ c₁ x)\")\n",
    "    plt.plot(tt, y_sum[:win_samples], label=\"sum (normalized)\")\n",
    "    plt.title(f\"Chord {idx}: {f1:.2f} Hz + {f2:.2f} Hz (Multiplier: {m:.3f})\")\n",
    "    plt.xlabel(\"Time [s]\")\n",
    "    plt.ylabel(\"Amplitude\")\n",
    "    plt.legend(loc=\"upper right\")\n",
    "    plt.tight_layout()\n",
    "    plt.show()\n",
    "\n",
    "    # ---- Playback (only the sum) ----\n",
    "    print(f\"Chord {idx}: {f1:.2f} Hz + {f2:.2f} Hz (Multiplier: {m:.3f})\")\n",
    "    display(Audio(y_sum, rate=sr))\n",
    "\n",
    "print(f\"All {len(multipliers)} sine chords generated and saved.\")\n"
   ]
  },
  {
   "cell_type": "markdown",
   "id": "2faabde1",
   "metadata": {},
   "source": [
    "# Experiment 2: Violins "
   ]
  },
  {
   "cell_type": "code",
   "execution_count": null,
   "id": "61932451",
   "metadata": {
    "vscode": {
     "languageId": "plaintext"
    }
   },
   "outputs": [],
   "source": []
  }
 ],
 "metadata": {
  "language_info": {
   "name": "python"
  }
 },
 "nbformat": 4,
 "nbformat_minor": 5
}
